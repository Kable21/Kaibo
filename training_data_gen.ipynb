{
 "cells": [
  {
   "cell_type": "code",
   "execution_count": 2,
   "metadata": {},
   "outputs": [
    {
     "ename": "ImportError",
     "evalue": "cannot import name 'lib' from 'numpy' (\\\\icnas2.cc.ic.ac.uk\\ks120\\appdata\\Python\\Python37\\site-packages\\numpy\\__init__.py)",
     "output_type": "error",
     "traceback": [
      "\u001b[1;31m---------------------------------------------------------------------------\u001b[0m",
      "\u001b[1;31mImportError\u001b[0m                               Traceback (most recent call last)",
      "\u001b[1;32m<ipython-input-2-a6849854a6a1>\u001b[0m in \u001b[0;36m<module>\u001b[1;34m\u001b[0m\n\u001b[1;32m----> 1\u001b[1;33m \u001b[1;32mimport\u001b[0m \u001b[0mnumpy\u001b[0m \u001b[1;32mas\u001b[0m \u001b[0mnp\u001b[0m\u001b[1;33m\u001b[0m\u001b[1;33m\u001b[0m\u001b[0m\n\u001b[0m\u001b[0;32m      2\u001b[0m \u001b[1;31m#import import_ipynb\u001b[0m\u001b[1;33m\u001b[0m\u001b[1;33m\u001b[0m\u001b[1;33m\u001b[0m\u001b[0m\n\u001b[0;32m      3\u001b[0m \u001b[1;32mimport\u001b[0m \u001b[0mtop88_KaiboAM\u001b[0m\u001b[1;33m\u001b[0m\u001b[1;33m\u001b[0m\u001b[0m\n\u001b[0;32m      4\u001b[0m \u001b[1;33m\u001b[0m\u001b[0m\n\u001b[0;32m      5\u001b[0m \u001b[1;32mimport\u001b[0m \u001b[0mmatplotlib\u001b[0m\u001b[1;33m.\u001b[0m\u001b[0mpyplot\u001b[0m \u001b[1;32mas\u001b[0m \u001b[0mplt\u001b[0m\u001b[1;33m\u001b[0m\u001b[1;33m\u001b[0m\u001b[0m\n",
      "\u001b[1;32m\\\\icnas2.cc.ic.ac.uk\\ks120\\appdata\\Python\\Python37\\site-packages\\numpy\\__init__.py\u001b[0m in \u001b[0;36m<module>\u001b[1;34m\u001b[0m\n\u001b[0;32m    151\u001b[0m     \u001b[1;32mfrom\u001b[0m \u001b[1;33m.\u001b[0m\u001b[0mcore\u001b[0m \u001b[1;32mimport\u001b[0m \u001b[1;33m*\u001b[0m\u001b[1;33m\u001b[0m\u001b[1;33m\u001b[0m\u001b[0m\n\u001b[0;32m    152\u001b[0m     \u001b[1;32mfrom\u001b[0m \u001b[1;33m.\u001b[0m \u001b[1;32mimport\u001b[0m \u001b[0mcompat\u001b[0m\u001b[1;33m\u001b[0m\u001b[1;33m\u001b[0m\u001b[0m\n\u001b[1;32m--> 153\u001b[1;33m     \u001b[1;32mfrom\u001b[0m \u001b[1;33m.\u001b[0m \u001b[1;32mimport\u001b[0m \u001b[0mlib\u001b[0m\u001b[1;33m\u001b[0m\u001b[1;33m\u001b[0m\u001b[0m\n\u001b[0m\u001b[0;32m    154\u001b[0m     \u001b[1;31m# NOTE: to be revisited following future namespace cleanup.\u001b[0m\u001b[1;33m\u001b[0m\u001b[1;33m\u001b[0m\u001b[1;33m\u001b[0m\u001b[0m\n\u001b[0;32m    155\u001b[0m     \u001b[1;31m# See gh-14454 and gh-15672 for discussion.\u001b[0m\u001b[1;33m\u001b[0m\u001b[1;33m\u001b[0m\u001b[1;33m\u001b[0m\u001b[0m\n",
      "\u001b[1;31mImportError\u001b[0m: cannot import name 'lib' from 'numpy' (\\\\icnas2.cc.ic.ac.uk\\ks120\\appdata\\Python\\Python37\\site-packages\\numpy\\__init__.py)"
     ]
    }
   ],
   "source": [
    "import numpy as np\n",
    "#import import_ipynb\n",
    "import top88_KaiboAM\n",
    "\n",
    "import matplotlib.pyplot as plt\n",
    "from matplotlib import colors\n",
    "import top88_Kaibo\n",
    "\n",
    "# input: (nelx,nely,volfrac,penal,rmin,ft,bc)\n",
    "#       ft - 1: sensitivity filter\n",
    "#            2: density filter\n",
    "#            3: Heaviside Filter\n",
    "#       bc - 1: Half-MBB\n",
    "#            2: Cantilever with vertical downward load applied at the bottom-right corner\n",
    "\n",
    "nelx = 30\n",
    "nely = 20\n",
    "\n",
    "filepathSE = \"OUTPUT/STRAIN ENERGY/SE_\" + str(nelx) + '_' + str(nely)\n",
    "filepathxPrint = \"OUTPUT/XPRINT/\" + str(nelx) + '_' + str(nely)\n",
    "xPrint_AM, se = top88_KaiboAM.main(nelx,nely,0.4, 3, 1.5, 2, 1)\n",
    "\n",
    "np.save(filepathSE,se)\n",
    "np.save(filepathxPrint, xPrint_AM)\n",
    "\n",
    "# PULL and PLOT the OUTPUT for SANITY CHECK\n",
    "nelxCheck = nelx\n",
    "nelyCheck = nely\n",
    "\n",
    "seCheck = np.load(\"OUTPUT/STRAIN ENERGY/SE_\" + str(nelxCheck) + '_' + str(nelyCheck)+'.npy')\n",
    "xPrintCheck = np.load(\"OUTPUT/XPRINT/\" + str(nelxCheck) + '_' + str(nelyCheck)+'.npy')\n",
    "print(seCheck)\n",
    "\n",
    "fig, (ax1, ax2) = plt.subplots(2)\n",
    "ax1.set_title(\"xPrint\")\n",
    "im1 = ax1.imshow(0 - xPrintCheck, cmap='gray', \\\n",
    "    interpolation='none', norm=colors.Normalize(vmin=-1, vmax=0))       \n",
    "im1.set_array(0-xPrintCheck)                                                   \n",
    "\n",
    "ax2.set_title(\"Strain Energy\")\n",
    "im2 = ax2.imshow(seCheck, cmap='viridis', \\\n",
    "    interpolation='none')       \n",
    "im2.set_array(seCheck)  \n",
    "plt.draw()\n",
    "plt.show()"
   ]
  },
  {
   "cell_type": "code",
   "execution_count": 15,
   "metadata": {},
   "outputs": [
    {
     "ename": "AttributeError",
     "evalue": "'function' object has no attribute 'AMFilter'",
     "output_type": "error",
     "traceback": [
      "\u001b[1;31m---------------------------------------------------------------------------\u001b[0m",
      "\u001b[1;31mAttributeError\u001b[0m                            Traceback (most recent call last)",
      "\u001b[1;32m<ipython-input-15-e5d5be5819bd>\u001b[0m in \u001b[0;36m<module>\u001b[1;34m\u001b[0m\n\u001b[1;32m----> 1\u001b[1;33m \u001b[0mtop88_KaiboAM\u001b[0m\u001b[1;33m.\u001b[0m\u001b[0mmain\u001b[0m\u001b[1;33m(\u001b[0m\u001b[0mnelx\u001b[0m\u001b[1;33m,\u001b[0m\u001b[0mnely\u001b[0m\u001b[1;33m,\u001b[0m\u001b[1;36m0.4\u001b[0m\u001b[1;33m,\u001b[0m \u001b[1;36m3\u001b[0m\u001b[1;33m,\u001b[0m \u001b[1;36m1.5\u001b[0m\u001b[1;33m,\u001b[0m \u001b[1;36m2\u001b[0m\u001b[1;33m,\u001b[0m \u001b[1;36m1\u001b[0m\u001b[1;33m)\u001b[0m\u001b[1;33m\u001b[0m\u001b[1;33m\u001b[0m\u001b[0m\n\u001b[0m",
      "\u001b[1;32mh:\\Desktop\\Individual Project\\Kaibo\\top88_KaiboAM.ipynb\u001b[0m in \u001b[0;36mmain\u001b[1;34m(nelx, nely, volfrac, penal, rmin, ft, bc)\u001b[0m\n",
      "\u001b[1;31mAttributeError\u001b[0m: 'function' object has no attribute 'AMFilter'"
     ]
    }
   ],
   "source": [
    "top88_KaiboAM.main(nelx,nely,0.4, 3, 1.5, 2, 1)"
   ]
  }
 ],
 "metadata": {
  "kernelspec": {
   "display_name": "Python 3",
   "language": "python",
   "name": "python3"
  },
  "language_info": {
   "codemirror_mode": {
    "name": "ipython",
    "version": 3
   },
   "file_extension": ".py",
   "mimetype": "text/x-python",
   "name": "python",
   "nbconvert_exporter": "python",
   "pygments_lexer": "ipython3",
   "version": "3.7.3"
  }
 },
 "nbformat": 4,
 "nbformat_minor": 2
}
